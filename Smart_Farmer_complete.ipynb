{
  "nbformat": 4,
  "nbformat_minor": 0,
  "metadata": {
    "colab": {
      "name": "Smart Farmer complete",
      "provenance": [],
      "collapsed_sections": []
    },
    "kernelspec": {
      "name": "python3",
      "display_name": "Python 3"
    }
  },
  "cells": [
    {
      "cell_type": "code",
      "metadata": {
        "id": "qry-HgXj39hO"
      },
      "source": [
        "from __future__ import print_function\r\n",
        "import pandas as pd\r\n",
        "import numpy as np\r\n",
        "import matplotlib.pyplot as plt\r\n",
        "import seaborn as sns\r\n",
        "from sklearn.metrics import classification_report\r\n",
        "from sklearn import metrics\r\n",
        "from sklearn import tree\r\n",
        "import warnings\r\n",
        "warnings.filterwarnings('ignore')\r\n",
        "df=pd.read_csv('/content/drive/MyDrive/Crop_recommendation.csv')"
      ],
      "execution_count": null,
      "outputs": []
    },
    {
      "cell_type": "code",
      "metadata": {
        "colab": {
          "base_uri": "https://localhost:8080/",
          "height": 191
        },
        "id": "qg11ig-s6GSx",
        "outputId": "2e721656-c3f8-47ae-be13-3ed2ada25b3b"
      },
      "source": [
        "df.head()"
      ],
      "execution_count": null,
      "outputs": [
        {
          "output_type": "execute_result",
          "data": {
            "text/html": [
              "<div>\n",
              "<style scoped>\n",
              "    .dataframe tbody tr th:only-of-type {\n",
              "        vertical-align: middle;\n",
              "    }\n",
              "\n",
              "    .dataframe tbody tr th {\n",
              "        vertical-align: top;\n",
              "    }\n",
              "\n",
              "    .dataframe thead th {\n",
              "        text-align: right;\n",
              "    }\n",
              "</style>\n",
              "<table border=\"1\" class=\"dataframe\">\n",
              "  <thead>\n",
              "    <tr style=\"text-align: right;\">\n",
              "      <th></th>\n",
              "      <th>N</th>\n",
              "      <th>P</th>\n",
              "      <th>K</th>\n",
              "      <th>temperature</th>\n",
              "      <th>humidity</th>\n",
              "      <th>ph</th>\n",
              "      <th>rainfall</th>\n",
              "      <th>label</th>\n",
              "    </tr>\n",
              "  </thead>\n",
              "  <tbody>\n",
              "    <tr>\n",
              "      <th>0</th>\n",
              "      <td>90</td>\n",
              "      <td>42</td>\n",
              "      <td>43</td>\n",
              "      <td>20.879744</td>\n",
              "      <td>82.002744</td>\n",
              "      <td>6.502985</td>\n",
              "      <td>202.935536</td>\n",
              "      <td>rice</td>\n",
              "    </tr>\n",
              "    <tr>\n",
              "      <th>1</th>\n",
              "      <td>85</td>\n",
              "      <td>58</td>\n",
              "      <td>41</td>\n",
              "      <td>21.770462</td>\n",
              "      <td>80.319644</td>\n",
              "      <td>7.038096</td>\n",
              "      <td>226.655537</td>\n",
              "      <td>rice</td>\n",
              "    </tr>\n",
              "    <tr>\n",
              "      <th>2</th>\n",
              "      <td>60</td>\n",
              "      <td>55</td>\n",
              "      <td>44</td>\n",
              "      <td>23.004459</td>\n",
              "      <td>82.320763</td>\n",
              "      <td>7.840207</td>\n",
              "      <td>263.964248</td>\n",
              "      <td>rice</td>\n",
              "    </tr>\n",
              "    <tr>\n",
              "      <th>3</th>\n",
              "      <td>74</td>\n",
              "      <td>35</td>\n",
              "      <td>40</td>\n",
              "      <td>26.491096</td>\n",
              "      <td>80.158363</td>\n",
              "      <td>6.980401</td>\n",
              "      <td>242.864034</td>\n",
              "      <td>rice</td>\n",
              "    </tr>\n",
              "    <tr>\n",
              "      <th>4</th>\n",
              "      <td>78</td>\n",
              "      <td>42</td>\n",
              "      <td>42</td>\n",
              "      <td>20.130175</td>\n",
              "      <td>81.604873</td>\n",
              "      <td>7.628473</td>\n",
              "      <td>262.717340</td>\n",
              "      <td>rice</td>\n",
              "    </tr>\n",
              "  </tbody>\n",
              "</table>\n",
              "</div>"
            ],
            "text/plain": [
              "    N   P   K  temperature   humidity        ph    rainfall label\n",
              "0  90  42  43    20.879744  82.002744  6.502985  202.935536  rice\n",
              "1  85  58  41    21.770462  80.319644  7.038096  226.655537  rice\n",
              "2  60  55  44    23.004459  82.320763  7.840207  263.964248  rice\n",
              "3  74  35  40    26.491096  80.158363  6.980401  242.864034  rice\n",
              "4  78  42  42    20.130175  81.604873  7.628473  262.717340  rice"
            ]
          },
          "metadata": {
            "tags": []
          },
          "execution_count": 21
        }
      ]
    },
    {
      "cell_type": "code",
      "metadata": {
        "colab": {
          "base_uri": "https://localhost:8080/",
          "height": 191
        },
        "id": "m-x0YrBE6GVH",
        "outputId": "901c3169-7e55-4371-c04e-9db572526ca0"
      },
      "source": [
        "df.tail()"
      ],
      "execution_count": null,
      "outputs": [
        {
          "output_type": "execute_result",
          "data": {
            "text/html": [
              "<div>\n",
              "<style scoped>\n",
              "    .dataframe tbody tr th:only-of-type {\n",
              "        vertical-align: middle;\n",
              "    }\n",
              "\n",
              "    .dataframe tbody tr th {\n",
              "        vertical-align: top;\n",
              "    }\n",
              "\n",
              "    .dataframe thead th {\n",
              "        text-align: right;\n",
              "    }\n",
              "</style>\n",
              "<table border=\"1\" class=\"dataframe\">\n",
              "  <thead>\n",
              "    <tr style=\"text-align: right;\">\n",
              "      <th></th>\n",
              "      <th>N</th>\n",
              "      <th>P</th>\n",
              "      <th>K</th>\n",
              "      <th>temperature</th>\n",
              "      <th>humidity</th>\n",
              "      <th>ph</th>\n",
              "      <th>rainfall</th>\n",
              "      <th>label</th>\n",
              "    </tr>\n",
              "  </thead>\n",
              "  <tbody>\n",
              "    <tr>\n",
              "      <th>2195</th>\n",
              "      <td>107</td>\n",
              "      <td>34</td>\n",
              "      <td>32</td>\n",
              "      <td>26.774637</td>\n",
              "      <td>66.413269</td>\n",
              "      <td>6.780064</td>\n",
              "      <td>177.774507</td>\n",
              "      <td>coffee</td>\n",
              "    </tr>\n",
              "    <tr>\n",
              "      <th>2196</th>\n",
              "      <td>99</td>\n",
              "      <td>15</td>\n",
              "      <td>27</td>\n",
              "      <td>27.417112</td>\n",
              "      <td>56.636362</td>\n",
              "      <td>6.086922</td>\n",
              "      <td>127.924610</td>\n",
              "      <td>coffee</td>\n",
              "    </tr>\n",
              "    <tr>\n",
              "      <th>2197</th>\n",
              "      <td>118</td>\n",
              "      <td>33</td>\n",
              "      <td>30</td>\n",
              "      <td>24.131797</td>\n",
              "      <td>67.225123</td>\n",
              "      <td>6.362608</td>\n",
              "      <td>173.322839</td>\n",
              "      <td>coffee</td>\n",
              "    </tr>\n",
              "    <tr>\n",
              "      <th>2198</th>\n",
              "      <td>117</td>\n",
              "      <td>32</td>\n",
              "      <td>34</td>\n",
              "      <td>26.272418</td>\n",
              "      <td>52.127394</td>\n",
              "      <td>6.758793</td>\n",
              "      <td>127.175293</td>\n",
              "      <td>coffee</td>\n",
              "    </tr>\n",
              "    <tr>\n",
              "      <th>2199</th>\n",
              "      <td>104</td>\n",
              "      <td>18</td>\n",
              "      <td>30</td>\n",
              "      <td>23.603016</td>\n",
              "      <td>60.396475</td>\n",
              "      <td>6.779833</td>\n",
              "      <td>140.937041</td>\n",
              "      <td>coffee</td>\n",
              "    </tr>\n",
              "  </tbody>\n",
              "</table>\n",
              "</div>"
            ],
            "text/plain": [
              "        N   P   K  temperature   humidity        ph    rainfall   label\n",
              "2195  107  34  32    26.774637  66.413269  6.780064  177.774507  coffee\n",
              "2196   99  15  27    27.417112  56.636362  6.086922  127.924610  coffee\n",
              "2197  118  33  30    24.131797  67.225123  6.362608  173.322839  coffee\n",
              "2198  117  32  34    26.272418  52.127394  6.758793  127.175293  coffee\n",
              "2199  104  18  30    23.603016  60.396475  6.779833  140.937041  coffee"
            ]
          },
          "metadata": {
            "tags": []
          },
          "execution_count": 22
        }
      ]
    },
    {
      "cell_type": "code",
      "metadata": {
        "colab": {
          "base_uri": "https://localhost:8080/"
        },
        "id": "IzfaoH8B6LV4",
        "outputId": "19ac7e68-4ab1-4872-fc81-0fac8162a62d"
      },
      "source": [
        "df.size"
      ],
      "execution_count": null,
      "outputs": [
        {
          "output_type": "execute_result",
          "data": {
            "text/plain": [
              "17600"
            ]
          },
          "metadata": {
            "tags": []
          },
          "execution_count": 23
        }
      ]
    },
    {
      "cell_type": "code",
      "metadata": {
        "colab": {
          "base_uri": "https://localhost:8080/"
        },
        "id": "B35O-nne6LYb",
        "outputId": "a2516aad-3fa9-4621-c13c-a24eae077122"
      },
      "source": [
        "df.shape"
      ],
      "execution_count": null,
      "outputs": [
        {
          "output_type": "execute_result",
          "data": {
            "text/plain": [
              "(2200, 8)"
            ]
          },
          "metadata": {
            "tags": []
          },
          "execution_count": 24
        }
      ]
    },
    {
      "cell_type": "code",
      "metadata": {
        "colab": {
          "base_uri": "https://localhost:8080/"
        },
        "id": "NsXZYu7y6Lav",
        "outputId": "bb51b175-1189-4d06-d74e-b31f696afc64"
      },
      "source": [
        "df.columns"
      ],
      "execution_count": null,
      "outputs": [
        {
          "output_type": "execute_result",
          "data": {
            "text/plain": [
              "Index(['N', 'P', 'K', 'temperature', 'humidity', 'ph', 'rainfall', 'label'], dtype='object')"
            ]
          },
          "metadata": {
            "tags": []
          },
          "execution_count": 25
        }
      ]
    },
    {
      "cell_type": "code",
      "metadata": {
        "colab": {
          "base_uri": "https://localhost:8080/"
        },
        "id": "lwrRLXGz6Vv5",
        "outputId": "95bed197-775d-4e09-a17b-422354eb911f"
      },
      "source": [
        "df['label'].unique()"
      ],
      "execution_count": null,
      "outputs": [
        {
          "output_type": "execute_result",
          "data": {
            "text/plain": [
              "array(['rice', 'maize', 'chickpea', 'kidneybeans', 'pigeonpeas',\n",
              "       'mothbeans', 'mungbean', 'blackgram', 'lentil', 'pomegranate',\n",
              "       'banana', 'mango', 'grapes', 'watermelon', 'muskmelon', 'apple',\n",
              "       'orange', 'papaya', 'coconut', 'cotton', 'jute', 'coffee'],\n",
              "      dtype=object)"
            ]
          },
          "metadata": {
            "tags": []
          },
          "execution_count": 26
        }
      ]
    },
    {
      "cell_type": "code",
      "metadata": {
        "colab": {
          "base_uri": "https://localhost:8080/"
        },
        "id": "DYpgTNqo6ax4",
        "outputId": "d45622ea-c44e-4eed-fd88-d51d54ba7c34"
      },
      "source": [
        "df.dtypes"
      ],
      "execution_count": null,
      "outputs": [
        {
          "output_type": "execute_result",
          "data": {
            "text/plain": [
              "N                int64\n",
              "P                int64\n",
              "K                int64\n",
              "temperature    float64\n",
              "humidity       float64\n",
              "ph             float64\n",
              "rainfall       float64\n",
              "label           object\n",
              "dtype: object"
            ]
          },
          "metadata": {
            "tags": []
          },
          "execution_count": 27
        }
      ]
    },
    {
      "cell_type": "code",
      "metadata": {
        "colab": {
          "base_uri": "https://localhost:8080/"
        },
        "id": "nPfr7ziZ6eM-",
        "outputId": "88845ea5-b40b-4ced-eb26-ccf5d384311f"
      },
      "source": [
        "df['label'].value_counts()"
      ],
      "execution_count": null,
      "outputs": [
        {
          "output_type": "execute_result",
          "data": {
            "text/plain": [
              "jute           100\n",
              "lentil         100\n",
              "coconut        100\n",
              "kidneybeans    100\n",
              "pomegranate    100\n",
              "orange         100\n",
              "pigeonpeas     100\n",
              "muskmelon      100\n",
              "maize          100\n",
              "watermelon     100\n",
              "mango          100\n",
              "apple          100\n",
              "banana         100\n",
              "cotton         100\n",
              "rice           100\n",
              "blackgram      100\n",
              "mungbean       100\n",
              "coffee         100\n",
              "papaya         100\n",
              "grapes         100\n",
              "mothbeans      100\n",
              "chickpea       100\n",
              "Name: label, dtype: int64"
            ]
          },
          "metadata": {
            "tags": []
          },
          "execution_count": 28
        }
      ]
    },
    {
      "cell_type": "code",
      "metadata": {
        "colab": {
          "base_uri": "https://localhost:8080/",
          "height": 338
        },
        "id": "mbipek_i6sDw",
        "outputId": "2d026a93-48af-426a-9077-3a8fcfefae4b"
      },
      "source": [
        "sns.heatmap(df.corr(),annot=True)"
      ],
      "execution_count": null,
      "outputs": [
        {
          "output_type": "execute_result",
          "data": {
            "text/plain": [
              "<matplotlib.axes._subplots.AxesSubplot at 0x7fd2e9c96d50>"
            ]
          },
          "metadata": {
            "tags": []
          },
          "execution_count": 29
        },
        {
          "output_type": "display_data",
          "data": {
            "image/png": "[encoded data removed]",
            "text/plain": [
              "<Figure size 432x288 with 2 Axes>"
            ]
          },
          "metadata": {
            "tags": [],
            "needs_background": "light"
          }
        }
      ]
    },
    {
      "cell_type": "code",
      "metadata": {
        "id": "SL3yrcJn60P0"
      },
      "source": [
        "features = df[['N', 'P','K','temperature', 'humidity', 'ph', 'rainfall']]\r\n",
        "target = df['label']\r\n",
        "#features = df[['temperature', 'humidity', 'ph', 'rainfall']]\r\n",
        "labels = df['label']"
      ],
      "execution_count": null,
      "outputs": []
    },
    {
      "cell_type": "code",
      "metadata": {
        "id": "HKUm50OE60vK"
      },
      "source": [
        "acc = []\r\n",
        "model = []\r\n",
        "from sklearn.model_selection import train_test_split\r\n",
        "Xtrain, Xtest, Ytrain, Ytest = train_test_split(features,target,test_size = 0.2,random_state =2)"
      ],
      "execution_count": null,
      "outputs": []
    },
    {
      "cell_type": "code",
      "metadata": {
        "colab": {
          "base_uri": "https://localhost:8080/"
        },
        "id": "0Y5gC0Nz69Lf",
        "outputId": "7eae2ddd-ea14-47e9-99d3-636e27629dba"
      },
      "source": [
        "from sklearn.tree import DecisionTreeClassifier\r\n",
        "DecisionTree = DecisionTreeClassifier(criterion=\"gini\",random_state=2,max_depth=8)\r\n",
        "\r\n",
        "DecisionTree.fit(Xtrain,Ytrain)\r\n",
        "\r\n",
        "predicted_values = DecisionTree.predict(Xtest)\r\n",
        "x = metrics.accuracy_score(Ytest, predicted_values)\r\n",
        "acc.append(x)\r\n",
        "model.append('Decision Tree')\r\n",
        "print(\"DecisionTrees's Accuracy is: \", x*100)\r\n",
        "\r\n",
        "print(classification_report(Ytest,predicted_values))"
      ],
      "execution_count": null,
      "outputs": [
        {
          "output_type": "stream",
          "text": [
            "DecisionTrees's Accuracy is:  90.68181818181819\n",
            "              precision    recall  f1-score   support\n",
            "\n",
            "       apple       1.00      1.00      1.00        13\n",
            "      banana       1.00      1.00      1.00        17\n",
            "   blackgram       0.37      0.88      0.52        16\n",
            "    chickpea       1.00      1.00      1.00        21\n",
            "     coconut       0.75      1.00      0.86        21\n",
            "      coffee       1.00      1.00      1.00        22\n",
            "      cotton       1.00      1.00      1.00        20\n",
            "      grapes       1.00      1.00      1.00        18\n",
            "        jute       0.83      0.89      0.86        28\n",
            " kidneybeans       1.00      1.00      1.00        14\n",
            "      lentil       0.00      0.00      0.00        23\n",
            "       maize       1.00      1.00      1.00        21\n",
            "       mango       1.00      1.00      1.00        26\n",
            "   mothbeans       0.75      0.79      0.77        19\n",
            "    mungbean       1.00      1.00      1.00        24\n",
            "   muskmelon       1.00      1.00      1.00        23\n",
            "      orange       1.00      1.00      1.00        29\n",
            "      papaya       1.00      1.00      1.00        19\n",
            "  pigeonpeas       1.00      1.00      1.00        18\n",
            " pomegranate       1.00      0.82      0.90        17\n",
            "        rice       1.00      0.62      0.77        16\n",
            "  watermelon       1.00      1.00      1.00        15\n",
            "\n",
            "    accuracy                           0.91       440\n",
            "   macro avg       0.90      0.91      0.89       440\n",
            "weighted avg       0.89      0.91      0.89       440\n",
            "\n"
          ],
          "name": "stdout"
        }
      ]
    },
    {
      "cell_type": "code",
      "metadata": {
        "id": "aG_s-lTj9bRw"
      },
      "source": [
        "from sklearn.tree import export_graphviz\r\n",
        "export_graphviz(DecisionTree, \r\n",
        "                out_file='tree.dot', \r\n",
        "                feature_names = ['N', 'P','K','temperature', 'humidity', 'ph', 'rainfall'],\r\n",
        "                class_names = ['rice','maize','chickpea','kidneybeans','pigeonpeas','mothbeans',\r\n",
        "                               'mungbean','blackgram','lentil','pomegranate','banana','mango','grapes',\r\n",
        "                               'watermelon','muskmelon','apple','orange','papaya','coconut','cotton','jute','coffee'],\r\n",
        "                rounded = True, proportion = False, \r\n",
        "                precision = 2, filled = True)\r\n",
        "from subprocess import call\r\n",
        "call(['dot', '-Tpng', 'tree.dot', '-o', 'tree.png', '-Gdpi=600'])\r\n",
        "from IPython.display import Image\r\n",
        "Image(filename = 'tree.png')"
      ],
      "execution_count": null,
      "outputs": []
    },
    {
      "cell_type": "code",
      "metadata": {
        "id": "NY7ioU1q7Pmn"
      },
      "source": [
        "def smartfarmer():\r\n",
        "  f='flood irrigation'\r\n",
        "  r='regulated irrigation'\r\n",
        "  cd='continuous dripping'\r\n",
        "  fr='frequent irrigation'\r\n",
        "  sp='sprinkler irrigation'\r\n",
        "  d='dripping'\r\n",
        "  gr='grooving'\r\n",
        "  spr='spraying'\r\n",
        "  rw='rapid watering'\r\n",
        "  ti='Type of irrigation is: '\r\n",
        "  error='ERROR, make sure that the data you entered is correct and try again'\r\n",
        "  N=float(input('Enter ratio of nitrogen content in soil: '))\r\n",
        "  P=float(input('Enter ratio of phosphorus content in soil: '))\r\n",
        "  K=float(input('Enter ratio of potassium content in soil: '))\r\n",
        "  if N>300 or N<0 or P>300 or P<0 or K>300 or K<0:\r\n",
        "    return error\r\n",
        "  T=float(input('Enter temperature in Celsius: '))\r\n",
        "  if T>50:\r\n",
        "    return error\r\n",
        "  H=float(input('Enter relative humidity in %: '))\r\n",
        "  if H>100 or H<0:\r\n",
        "    return error\r\n",
        "  PH=float(input('Enter PH value of the soil: '))\r\n",
        "  if PH>12 or PH<2:\r\n",
        "    return error\r\n",
        "  R=float(input('Enter rainfall in mm: '))\r\n",
        "  if R>400 or R<0:\r\n",
        "    return error\r\n",
        "  data=np.array([[N,P,K,T,H,PH,R]])\r\n",
        "  prediction1=DecisionTree.predict(data)\r\n",
        "  print('Best crop to plant is: '+str(prediction1))\r\n",
        "  if prediction1==['rice']:\r\n",
        "    print(ti+f)\r\n",
        "  elif prediction1==['maize']:\r\n",
        "    print(ti+r)\r\n",
        "  elif prediction1==['chickpea']:\r\n",
        "    print(ti+r)\r\n",
        "  elif prediction1==['lentil']:\r\n",
        "    print(ti+cd)\r\n",
        "  elif prediction1==['pomegranate']:\r\n",
        "    print(ti+fr)\r\n",
        "  elif prediction1==['mango']:\r\n",
        "    print(ti+sp)\r\n",
        "  elif prediction1==['grapes']:\r\n",
        "    print(ti+d)\r\n",
        "  elif prediction1==['watermelon']:\r\n",
        "    print(ti+d+', '+gr+' or '+spr)\r\n",
        "  elif prediction1==['muskmelon']:\r\n",
        "    print(ti+d)\r\n",
        "  elif prediction1==['orange']:\r\n",
        "    print(ti+rw)\r\n",
        "  elif prediction1==['apple']:\r\n",
        "    print(ti+d)\r\n",
        "  elif prediction1==['papaya']:\r\n",
        "    print(ti+r)\r\n",
        "  elif prediction1==['coconut']:\r\n",
        "    print(ti+r)\r\n",
        "  elif prediction1==['cotton']:\r\n",
        "    print(ti+spr)\r\n",
        "  elif prediction1==['jute']:\r\n",
        "    print(ti+sp)\r\n",
        "  elif prediction1==['coffee']:\r\n",
        "    print(ti+sp)\r\n",
        "  elif prediction1==['banana']:\r\n",
        "    print(ti+fr)\r\n",
        "  else:\r\n",
        "    print('Data unavailable')\r\n",
        "smartfarmer()"
      ],
      "execution_count": null,
      "outputs": []
    }
  ]
}